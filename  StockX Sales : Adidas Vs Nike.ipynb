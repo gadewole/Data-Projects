{
 "cells": [
  {
   "cell_type": "markdown",
   "id": "5f497065",
   "metadata": {},
   "source": [
    "# StockX\n",
    "\n",
    "* **Data:** `StockX-Data-Contest-2019-3.xlsx`\n",
    "* **Description:** Adidas and Nike shoes are bought at a retail price and then sold on platforms like stock x for a higher resale price? This data is from [StockX](https://stockx.com/)\n",
    "* **Source:** https://stockx.com/news/the-2019-data-contest/\n",
    "* **Columns of interest:**\n",
    "    * `Order Date` is the resale order was completed\n",
    "    * `Brand` is the name of the company producing the shoe\n",
    "    * `Sneaker Name` is the name of the shoe itself\n",
    "    * `Sale Price` is how much the shoe went for at resale\n",
    "    * `Retail Price` is how much the shoe originally cost\n",
    "    * `Release Date` is when the shoe was originally released\n",
    "    * `Shoe Size` is the size of the shoe being sold\n",
    "    * `Buyer Region` is where the shoe's buyer is located\n",
    "\n",
    "This dataset is topical due to the passing of [Virgil Abloh, founder of Off-White](https://www.newyorker.com/culture/postscript/the-remarkable-life-of-virgil-abloh)."
   ]
  },
  {
   "cell_type": "code",
   "execution_count": 5,
   "id": "e77a0169",
   "metadata": {
    "scrolled": true
   },
   "outputs": [
    {
     "data": {
      "text/html": [
       "<div>\n",
       "<style scoped>\n",
       "    .dataframe tbody tr th:only-of-type {\n",
       "        vertical-align: middle;\n",
       "    }\n",
       "\n",
       "    .dataframe tbody tr th {\n",
       "        vertical-align: top;\n",
       "    }\n",
       "\n",
       "    .dataframe thead th {\n",
       "        text-align: right;\n",
       "    }\n",
       "</style>\n",
       "<table border=\"1\" class=\"dataframe\">\n",
       "  <thead>\n",
       "    <tr style=\"text-align: right;\">\n",
       "      <th></th>\n",
       "      <th>Order Date</th>\n",
       "      <th>Brand</th>\n",
       "      <th>Sneaker Name</th>\n",
       "      <th>Sale Price</th>\n",
       "      <th>Retail Price</th>\n",
       "      <th>Release Date</th>\n",
       "      <th>Shoe Size</th>\n",
       "      <th>Buyer Region</th>\n",
       "    </tr>\n",
       "  </thead>\n",
       "  <tbody>\n",
       "    <tr>\n",
       "      <th>0</th>\n",
       "      <td>2017-09-01</td>\n",
       "      <td>Yeezy</td>\n",
       "      <td>Adidas-Yeezy-Boost-350-Low-V2-Beluga</td>\n",
       "      <td>1,097.0</td>\n",
       "      <td>220</td>\n",
       "      <td>2016-09-24</td>\n",
       "      <td>11.0</td>\n",
       "      <td>California</td>\n",
       "    </tr>\n",
       "    <tr>\n",
       "      <th>1</th>\n",
       "      <td>2017-09-01</td>\n",
       "      <td>Yeezy</td>\n",
       "      <td>Adidas-Yeezy-Boost-350-V2-Core-Black-Copper</td>\n",
       "      <td>685.0</td>\n",
       "      <td>220</td>\n",
       "      <td>2016-11-23</td>\n",
       "      <td>11.0</td>\n",
       "      <td>California</td>\n",
       "    </tr>\n",
       "    <tr>\n",
       "      <th>2</th>\n",
       "      <td>2017-09-01</td>\n",
       "      <td>Yeezy</td>\n",
       "      <td>Adidas-Yeezy-Boost-350-V2-Core-Black-Green</td>\n",
       "      <td>690.0</td>\n",
       "      <td>220</td>\n",
       "      <td>2016-11-23</td>\n",
       "      <td>11.0</td>\n",
       "      <td>California</td>\n",
       "    </tr>\n",
       "    <tr>\n",
       "      <th>3</th>\n",
       "      <td>2017-09-01</td>\n",
       "      <td>Yeezy</td>\n",
       "      <td>Adidas-Yeezy-Boost-350-V2-Core-Black-Red</td>\n",
       "      <td>1,075.0</td>\n",
       "      <td>220</td>\n",
       "      <td>2016-11-23</td>\n",
       "      <td>11.5</td>\n",
       "      <td>Kentucky</td>\n",
       "    </tr>\n",
       "    <tr>\n",
       "      <th>4</th>\n",
       "      <td>2017-09-01</td>\n",
       "      <td>Yeezy</td>\n",
       "      <td>Adidas-Yeezy-Boost-350-V2-Core-Black-Red-2017</td>\n",
       "      <td>828.0</td>\n",
       "      <td>220</td>\n",
       "      <td>2017-02-11</td>\n",
       "      <td>11.0</td>\n",
       "      <td>Rhode Island</td>\n",
       "    </tr>\n",
       "  </tbody>\n",
       "</table>\n",
       "</div>"
      ],
      "text/plain": [
       "  Order Date   Brand                                   Sneaker Name  \\\n",
       "0 2017-09-01   Yeezy           Adidas-Yeezy-Boost-350-Low-V2-Beluga   \n",
       "1 2017-09-01   Yeezy    Adidas-Yeezy-Boost-350-V2-Core-Black-Copper   \n",
       "2 2017-09-01   Yeezy     Adidas-Yeezy-Boost-350-V2-Core-Black-Green   \n",
       "3 2017-09-01   Yeezy       Adidas-Yeezy-Boost-350-V2-Core-Black-Red   \n",
       "4 2017-09-01   Yeezy  Adidas-Yeezy-Boost-350-V2-Core-Black-Red-2017   \n",
       "\n",
       "   Sale Price  Retail Price Release Date  Shoe Size  Buyer Region  \n",
       "0     1,097.0           220   2016-09-24       11.0    California  \n",
       "1       685.0           220   2016-11-23       11.0    California  \n",
       "2       690.0           220   2016-11-23       11.0    California  \n",
       "3     1,075.0           220   2016-11-23       11.5      Kentucky  \n",
       "4       828.0           220   2017-02-11       11.0  Rhode Island  "
      ]
     },
     "execution_count": 5,
     "metadata": {},
     "output_type": "execute_result"
    }
   ],
   "source": [
    "import pandas as pd\n",
    "pd.set_option(\"display.max_columns\", None)\n",
    "pd.set_option(\"display.float_format\", '{:,}'.format)\n",
    "\n",
    "df = pd.read_excel(\"StockX-Data-Contest-2019-3.xlsx\",  sheet_name='Raw Data')\n",
    "df.head()"
   ]
  },
  {
   "cell_type": "markdown",
   "id": "64b9e32d",
   "metadata": {},
   "source": [
    "## What brand had more sales?\n",
    "\n",
    " Yeezy beat Off- White in sales. Yeezy is partnered with Adidas Off White is partnered with Nike."
   ]
  },
  {
   "cell_type": "code",
   "execution_count": 6,
   "id": "4586bb21",
   "metadata": {},
   "outputs": [
    {
     "data": {
      "text/plain": [
       " Yeezy       72162\n",
       "Off-White    27794\n",
       "Name: Brand, dtype: int64"
      ]
     },
     "execution_count": 6,
     "metadata": {},
     "output_type": "execute_result"
    }
   ],
   "source": [
    "df.Brand.value_counts()"
   ]
  },
  {
   "cell_type": "markdown",
   "id": "96608e5f",
   "metadata": {},
   "source": [
    "## What's the most common shoe size sold?\n",
    "\n",
    "Size 10 is the most common shoe size sold, capturing 11% of shoe sales.\n"
   ]
  },
  {
   "cell_type": "code",
   "execution_count": 10,
   "id": "7ec30863",
   "metadata": {},
   "outputs": [
    {
     "data": {
      "text/plain": [
       "10.0      11.09788306855016\n",
       "9.0        9.71027251990876\n",
       "11.0      9.255072231781984\n",
       "10.5      8.787866661330986\n",
       "9.5       8.688823082156148\n",
       "12.0      7.300212093321061\n",
       "8.0       5.365360758733843\n",
       "8.5       5.302333026531674\n",
       "13.0       4.60402577133939\n",
       "11.5      4.503981751970867\n",
       "6.0       4.014766497258794\n",
       "7.0       3.868702228980751\n",
       "5.0       3.578574572812037\n",
       "7.5        2.66517267597743\n",
       "5.5       2.622153747648966\n",
       "4.0       2.241986474048581\n",
       "6.5      2.2199767897875065\n",
       "14.0     1.7917883868902318\n",
       "4.5      1.3045740125655287\n",
       "12.5     0.6282764416343192\n",
       "13.5    0.14706470847172756\n",
       "15.0     0.1300572251790788\n",
       "14.5    0.08403697626955861\n",
       "16.0     0.0790347753011325\n",
       "17.0   0.004001760774740886\n",
       "3.5    0.004001760774740886\n",
       "Name: Shoe Size, dtype: float64"
      ]
     },
     "execution_count": 10,
     "metadata": {},
     "output_type": "execute_result"
    }
   ],
   "source": [
    "\n",
    "df['Shoe Size'].value_counts(normalize=True)* 100"
   ]
  },
  {
   "cell_type": "markdown",
   "id": "bc5be5ba",
   "metadata": {},
   "source": [
    "## What was the median difference between the resale price and the retail price?\n",
    "The median difference was $154"
   ]
  },
  {
   "cell_type": "code",
   "execution_count": 11,
   "id": "1afcd0e8",
   "metadata": {},
   "outputs": [
    {
     "data": {
      "text/html": [
       "<div>\n",
       "<style scoped>\n",
       "    .dataframe tbody tr th:only-of-type {\n",
       "        vertical-align: middle;\n",
       "    }\n",
       "\n",
       "    .dataframe tbody tr th {\n",
       "        vertical-align: top;\n",
       "    }\n",
       "\n",
       "    .dataframe thead th {\n",
       "        text-align: right;\n",
       "    }\n",
       "</style>\n",
       "<table border=\"1\" class=\"dataframe\">\n",
       "  <thead>\n",
       "    <tr style=\"text-align: right;\">\n",
       "      <th></th>\n",
       "      <th>Order Date</th>\n",
       "      <th>Brand</th>\n",
       "      <th>Sneaker Name</th>\n",
       "      <th>Sale Price</th>\n",
       "      <th>Retail Price</th>\n",
       "      <th>Release Date</th>\n",
       "      <th>Shoe Size</th>\n",
       "      <th>Buyer Region</th>\n",
       "      <th>profit</th>\n",
       "    </tr>\n",
       "  </thead>\n",
       "  <tbody>\n",
       "    <tr>\n",
       "      <th>0</th>\n",
       "      <td>2017-09-01</td>\n",
       "      <td>Yeezy</td>\n",
       "      <td>Adidas-Yeezy-Boost-350-Low-V2-Beluga</td>\n",
       "      <td>1,097.0</td>\n",
       "      <td>220</td>\n",
       "      <td>2016-09-24</td>\n",
       "      <td>11.0</td>\n",
       "      <td>California</td>\n",
       "      <td>877.0</td>\n",
       "    </tr>\n",
       "    <tr>\n",
       "      <th>1</th>\n",
       "      <td>2017-09-01</td>\n",
       "      <td>Yeezy</td>\n",
       "      <td>Adidas-Yeezy-Boost-350-V2-Core-Black-Copper</td>\n",
       "      <td>685.0</td>\n",
       "      <td>220</td>\n",
       "      <td>2016-11-23</td>\n",
       "      <td>11.0</td>\n",
       "      <td>California</td>\n",
       "      <td>465.0</td>\n",
       "    </tr>\n",
       "    <tr>\n",
       "      <th>2</th>\n",
       "      <td>2017-09-01</td>\n",
       "      <td>Yeezy</td>\n",
       "      <td>Adidas-Yeezy-Boost-350-V2-Core-Black-Green</td>\n",
       "      <td>690.0</td>\n",
       "      <td>220</td>\n",
       "      <td>2016-11-23</td>\n",
       "      <td>11.0</td>\n",
       "      <td>California</td>\n",
       "      <td>470.0</td>\n",
       "    </tr>\n",
       "    <tr>\n",
       "      <th>3</th>\n",
       "      <td>2017-09-01</td>\n",
       "      <td>Yeezy</td>\n",
       "      <td>Adidas-Yeezy-Boost-350-V2-Core-Black-Red</td>\n",
       "      <td>1,075.0</td>\n",
       "      <td>220</td>\n",
       "      <td>2016-11-23</td>\n",
       "      <td>11.5</td>\n",
       "      <td>Kentucky</td>\n",
       "      <td>855.0</td>\n",
       "    </tr>\n",
       "    <tr>\n",
       "      <th>4</th>\n",
       "      <td>2017-09-01</td>\n",
       "      <td>Yeezy</td>\n",
       "      <td>Adidas-Yeezy-Boost-350-V2-Core-Black-Red-2017</td>\n",
       "      <td>828.0</td>\n",
       "      <td>220</td>\n",
       "      <td>2017-02-11</td>\n",
       "      <td>11.0</td>\n",
       "      <td>Rhode Island</td>\n",
       "      <td>608.0</td>\n",
       "    </tr>\n",
       "  </tbody>\n",
       "</table>\n",
       "</div>"
      ],
      "text/plain": [
       "  Order Date   Brand                                   Sneaker Name  \\\n",
       "0 2017-09-01   Yeezy           Adidas-Yeezy-Boost-350-Low-V2-Beluga   \n",
       "1 2017-09-01   Yeezy    Adidas-Yeezy-Boost-350-V2-Core-Black-Copper   \n",
       "2 2017-09-01   Yeezy     Adidas-Yeezy-Boost-350-V2-Core-Black-Green   \n",
       "3 2017-09-01   Yeezy       Adidas-Yeezy-Boost-350-V2-Core-Black-Red   \n",
       "4 2017-09-01   Yeezy  Adidas-Yeezy-Boost-350-V2-Core-Black-Red-2017   \n",
       "\n",
       "   Sale Price  Retail Price Release Date  Shoe Size  Buyer Region  profit  \n",
       "0     1,097.0           220   2016-09-24       11.0    California   877.0  \n",
       "1       685.0           220   2016-11-23       11.0    California   465.0  \n",
       "2       690.0           220   2016-11-23       11.0    California   470.0  \n",
       "3     1,075.0           220   2016-11-23       11.5      Kentucky   855.0  \n",
       "4       828.0           220   2017-02-11       11.0  Rhode Island   608.0  "
      ]
     },
     "execution_count": 11,
     "metadata": {},
     "output_type": "execute_result"
    }
   ],
   "source": [
    "df['profit'] =df['Sale Price'] - df['Retail Price']\n"
   ]
  },
  {
   "cell_type": "code",
   "execution_count": 12,
   "id": "0b747a1c",
   "metadata": {},
   "outputs": [
    {
     "data": {
      "text/plain": [
       "154.0"
      ]
     },
     "execution_count": 12,
     "metadata": {},
     "output_type": "execute_result"
    }
   ],
   "source": [
    "df.profit.median()"
   ]
  },
  {
   "cell_type": "markdown",
   "id": "025edaed",
   "metadata": {},
   "source": [
    "## What were the total sales (in dollars) to Ilinois, New York , and California?\n",
    "These three state produced $ 18,194,048 in sales combined."
   ]
  },
  {
   "cell_type": "code",
   "execution_count": 19,
   "id": "07d39264",
   "metadata": {},
   "outputs": [
    {
     "data": {
      "text/plain": [
       "18194048.5132"
      ]
     },
     "execution_count": 19,
     "metadata": {},
     "output_type": "execute_result"
    }
   ],
   "source": [
    "regions=['Illinois', 'New York', 'California']\n",
    "df[df['Buyer Region'].isin(regions)]['Sale Price'].sum()"
   ]
  },
  {
   "cell_type": "markdown",
   "id": "2f971a8d",
   "metadata": {},
   "source": [
    "## What were the total sales (in dollars) of shoes sized 10, 11 and 12?\n",
    "$ 13,030,998 in sales for shoe sizes 10-12"
   ]
  },
  {
   "cell_type": "code",
   "execution_count": 24,
   "id": "00363d4c",
   "metadata": {},
   "outputs": [
    {
     "data": {
      "text/plain": [
       "13030998.7429"
      ]
     },
     "execution_count": 24,
     "metadata": {},
     "output_type": "execute_result"
    }
   ],
   "source": [
    "\n",
    "df[df['Shoe Size'].isin([10, 11, 12])]['Sale Price'].sum()"
   ]
  },
  {
   "cell_type": "markdown",
   "id": "f541836c",
   "metadata": {},
   "source": [
    "## What sneakers sold, on average, for the highest sale price?\n",
    "The Jordan 1 Off White sold for $1,826 giving it the highest sale price"
   ]
  },
  {
   "cell_type": "code",
   "execution_count": 27,
   "id": "265eb338",
   "metadata": {
    "scrolled": true
   },
   "outputs": [
    {
     "data": {
      "text/plain": [
       "Sneaker Name\n",
       "Air-Jordan-1-Retro-High-Off-White-White     1,826.0688936102238\n",
       "Air-Jordan-1-Retro-High-Off-White-Chicago               1,769.8\n",
       "Adidas-Yeezy-Boost-350-Low-Turtledove       1,531.6617647058824\n",
       "Name: Sale Price, dtype: float64"
      ]
     },
     "execution_count": 27,
     "metadata": {},
     "output_type": "execute_result"
    }
   ],
   "source": [
    "df.groupby('Sneaker Name')['Sale Price'].mean().sort_values(ascending=False).head(3)"
   ]
  },
  {
   "cell_type": "markdown",
   "id": "5f640f47",
   "metadata": {},
   "source": [
    "## How many shoes in the dataset were produced by Nike?\n",
    "\n",
    "Nike produce 27,794 shoes that is including Jordans."
   ]
  },
  {
   "cell_type": "code",
   "execution_count": 36,
   "id": "14d08a1a",
   "metadata": {
    "scrolled": false
   },
   "outputs": [
    {
     "data": {
      "text/html": [
       "<div>\n",
       "<style scoped>\n",
       "    .dataframe tbody tr th:only-of-type {\n",
       "        vertical-align: middle;\n",
       "    }\n",
       "\n",
       "    .dataframe tbody tr th {\n",
       "        vertical-align: top;\n",
       "    }\n",
       "\n",
       "    .dataframe thead th {\n",
       "        text-align: right;\n",
       "    }\n",
       "</style>\n",
       "<table border=\"1\" class=\"dataframe\">\n",
       "  <thead>\n",
       "    <tr style=\"text-align: right;\">\n",
       "      <th></th>\n",
       "      <th>Order Date</th>\n",
       "      <th>Brand</th>\n",
       "      <th>Sneaker Name</th>\n",
       "      <th>Sale Price</th>\n",
       "      <th>Retail Price</th>\n",
       "      <th>Release Date</th>\n",
       "      <th>Shoe Size</th>\n",
       "      <th>Buyer Region</th>\n",
       "      <th>profit</th>\n",
       "    </tr>\n",
       "  </thead>\n",
       "  <tbody>\n",
       "    <tr>\n",
       "      <th>128</th>\n",
       "      <td>2017-09-07</td>\n",
       "      <td>Off-White</td>\n",
       "      <td>Nike-Air-Max-90-Off-White</td>\n",
       "      <td>1,600.0</td>\n",
       "      <td>160</td>\n",
       "      <td>2017-09-09</td>\n",
       "      <td>8.0</td>\n",
       "      <td>California</td>\n",
       "      <td>1,440.0</td>\n",
       "    </tr>\n",
       "    <tr>\n",
       "      <th>129</th>\n",
       "      <td>2017-09-07</td>\n",
       "      <td>Off-White</td>\n",
       "      <td>Nike-Air-Max-90-Off-White</td>\n",
       "      <td>1,090.0</td>\n",
       "      <td>160</td>\n",
       "      <td>2017-09-09</td>\n",
       "      <td>11.5</td>\n",
       "      <td>New York</td>\n",
       "      <td>930.0</td>\n",
       "    </tr>\n",
       "    <tr>\n",
       "      <th>130</th>\n",
       "      <td>2017-09-07</td>\n",
       "      <td>Off-White</td>\n",
       "      <td>Nike-Air-Presto-Off-White</td>\n",
       "      <td>1,344.0</td>\n",
       "      <td>160</td>\n",
       "      <td>2017-09-09</td>\n",
       "      <td>10.0</td>\n",
       "      <td>New York</td>\n",
       "      <td>1,184.0</td>\n",
       "    </tr>\n",
       "    <tr>\n",
       "      <th>131</th>\n",
       "      <td>2017-09-07</td>\n",
       "      <td>Off-White</td>\n",
       "      <td>Nike-Air-Presto-Off-White</td>\n",
       "      <td>1,325.0</td>\n",
       "      <td>160</td>\n",
       "      <td>2017-09-09</td>\n",
       "      <td>10.0</td>\n",
       "      <td>Massachusetts</td>\n",
       "      <td>1,165.0</td>\n",
       "    </tr>\n",
       "    <tr>\n",
       "      <th>132</th>\n",
       "      <td>2017-09-07</td>\n",
       "      <td>Off-White</td>\n",
       "      <td>Nike-Air-VaporMax-Off-White</td>\n",
       "      <td>1,800.0</td>\n",
       "      <td>250</td>\n",
       "      <td>2017-09-09</td>\n",
       "      <td>12.0</td>\n",
       "      <td>Kentucky</td>\n",
       "      <td>1,550.0</td>\n",
       "    </tr>\n",
       "    <tr>\n",
       "      <th>...</th>\n",
       "      <td>...</td>\n",
       "      <td>...</td>\n",
       "      <td>...</td>\n",
       "      <td>...</td>\n",
       "      <td>...</td>\n",
       "      <td>...</td>\n",
       "      <td>...</td>\n",
       "      <td>...</td>\n",
       "      <td>...</td>\n",
       "    </tr>\n",
       "    <tr>\n",
       "      <th>99869</th>\n",
       "      <td>2019-02-13</td>\n",
       "      <td>Off-White</td>\n",
       "      <td>Nike-Zoom-Fly-Off-White-Pink</td>\n",
       "      <td>265.0</td>\n",
       "      <td>170</td>\n",
       "      <td>2018-11-28</td>\n",
       "      <td>11.0</td>\n",
       "      <td>New York</td>\n",
       "      <td>95.0</td>\n",
       "    </tr>\n",
       "    <tr>\n",
       "      <th>99870</th>\n",
       "      <td>2019-02-13</td>\n",
       "      <td>Off-White</td>\n",
       "      <td>Nike-Zoom-Fly-Off-White-Pink</td>\n",
       "      <td>331.0</td>\n",
       "      <td>170</td>\n",
       "      <td>2018-11-28</td>\n",
       "      <td>4.0</td>\n",
       "      <td>California</td>\n",
       "      <td>161.0</td>\n",
       "    </tr>\n",
       "    <tr>\n",
       "      <th>99871</th>\n",
       "      <td>2019-02-13</td>\n",
       "      <td>Off-White</td>\n",
       "      <td>Nike-Zoom-Fly-Off-White-Pink</td>\n",
       "      <td>405.0</td>\n",
       "      <td>170</td>\n",
       "      <td>2018-11-28</td>\n",
       "      <td>6.0</td>\n",
       "      <td>New York</td>\n",
       "      <td>235.0</td>\n",
       "    </tr>\n",
       "    <tr>\n",
       "      <th>99872</th>\n",
       "      <td>2019-02-13</td>\n",
       "      <td>Off-White</td>\n",
       "      <td>Nike-Zoom-Fly-Off-White-Pink</td>\n",
       "      <td>263.0</td>\n",
       "      <td>170</td>\n",
       "      <td>2018-11-28</td>\n",
       "      <td>10.0</td>\n",
       "      <td>Maryland</td>\n",
       "      <td>93.0</td>\n",
       "    </tr>\n",
       "    <tr>\n",
       "      <th>99873</th>\n",
       "      <td>2019-02-13</td>\n",
       "      <td>Off-White</td>\n",
       "      <td>Nike-Zoom-Fly-Off-White-Pink</td>\n",
       "      <td>237.0</td>\n",
       "      <td>170</td>\n",
       "      <td>2018-11-28</td>\n",
       "      <td>9.0</td>\n",
       "      <td>California</td>\n",
       "      <td>67.0</td>\n",
       "    </tr>\n",
       "  </tbody>\n",
       "</table>\n",
       "<p>27794 rows × 9 columns</p>\n",
       "</div>"
      ],
      "text/plain": [
       "      Order Date      Brand                  Sneaker Name  Sale Price  \\\n",
       "128   2017-09-07  Off-White     Nike-Air-Max-90-Off-White     1,600.0   \n",
       "129   2017-09-07  Off-White     Nike-Air-Max-90-Off-White     1,090.0   \n",
       "130   2017-09-07  Off-White     Nike-Air-Presto-Off-White     1,344.0   \n",
       "131   2017-09-07  Off-White     Nike-Air-Presto-Off-White     1,325.0   \n",
       "132   2017-09-07  Off-White   Nike-Air-VaporMax-Off-White     1,800.0   \n",
       "...          ...        ...                           ...         ...   \n",
       "99869 2019-02-13  Off-White  Nike-Zoom-Fly-Off-White-Pink       265.0   \n",
       "99870 2019-02-13  Off-White  Nike-Zoom-Fly-Off-White-Pink       331.0   \n",
       "99871 2019-02-13  Off-White  Nike-Zoom-Fly-Off-White-Pink       405.0   \n",
       "99872 2019-02-13  Off-White  Nike-Zoom-Fly-Off-White-Pink       263.0   \n",
       "99873 2019-02-13  Off-White  Nike-Zoom-Fly-Off-White-Pink       237.0   \n",
       "\n",
       "       Retail Price Release Date  Shoe Size   Buyer Region  profit  \n",
       "128             160   2017-09-09        8.0     California 1,440.0  \n",
       "129             160   2017-09-09       11.5       New York   930.0  \n",
       "130             160   2017-09-09       10.0       New York 1,184.0  \n",
       "131             160   2017-09-09       10.0  Massachusetts 1,165.0  \n",
       "132             250   2017-09-09       12.0       Kentucky 1,550.0  \n",
       "...             ...          ...        ...            ...     ...  \n",
       "99869           170   2018-11-28       11.0       New York    95.0  \n",
       "99870           170   2018-11-28        4.0     California   161.0  \n",
       "99871           170   2018-11-28        6.0       New York   235.0  \n",
       "99872           170   2018-11-28       10.0       Maryland    93.0  \n",
       "99873           170   2018-11-28        9.0     California    67.0  \n",
       "\n",
       "[27794 rows x 9 columns]"
      ]
     },
     "execution_count": 36,
     "metadata": {},
     "output_type": "execute_result"
    }
   ],
   "source": [
    "df[df['Sneaker Name'].str.contains(\"Nike\") | df['Sneaker Name'].str.contains(\"Jordan\")]"
   ]
  },
  {
   "cell_type": "code",
   "execution_count": 46,
   "id": "07a92999",
   "metadata": {},
   "outputs": [
    {
     "data": {
      "text/plain": [
       "(27794, 9)"
      ]
     },
     "execution_count": 46,
     "metadata": {},
     "output_type": "execute_result"
    }
   ],
   "source": [
    "df[df['Sneaker Name'].str.contains(\"Nike\") | df['Sneaker Name'].str.contains(\"Jordan\")].shape\n",
    "## 27,794 shoes were produced by Nike"
   ]
  },
  {
   "cell_type": "markdown",
   "id": "6188fcbb",
   "metadata": {},
   "source": [
    "## How many shoes in the data set were produced by Adidas?\n",
    "52,572 shoes were produced by Adidas in this Data set"
   ]
  },
  {
   "cell_type": "code",
   "execution_count": 43,
   "id": "2e085234",
   "metadata": {},
   "outputs": [
    {
     "data": {
      "text/html": [
       "<div>\n",
       "<style scoped>\n",
       "    .dataframe tbody tr th:only-of-type {\n",
       "        vertical-align: middle;\n",
       "    }\n",
       "\n",
       "    .dataframe tbody tr th {\n",
       "        vertical-align: top;\n",
       "    }\n",
       "\n",
       "    .dataframe thead th {\n",
       "        text-align: right;\n",
       "    }\n",
       "</style>\n",
       "<table border=\"1\" class=\"dataframe\">\n",
       "  <thead>\n",
       "    <tr style=\"text-align: right;\">\n",
       "      <th></th>\n",
       "      <th>Order Date</th>\n",
       "      <th>Brand</th>\n",
       "      <th>Sneaker Name</th>\n",
       "      <th>Sale Price</th>\n",
       "      <th>Retail Price</th>\n",
       "      <th>Release Date</th>\n",
       "      <th>Shoe Size</th>\n",
       "      <th>Buyer Region</th>\n",
       "      <th>profit</th>\n",
       "    </tr>\n",
       "  </thead>\n",
       "  <tbody>\n",
       "    <tr>\n",
       "      <th>0</th>\n",
       "      <td>2017-09-01</td>\n",
       "      <td>Yeezy</td>\n",
       "      <td>Adidas-Yeezy-Boost-350-Low-V2-Beluga</td>\n",
       "      <td>1,097.0</td>\n",
       "      <td>220</td>\n",
       "      <td>2016-09-24</td>\n",
       "      <td>11.0</td>\n",
       "      <td>California</td>\n",
       "      <td>877.0</td>\n",
       "    </tr>\n",
       "    <tr>\n",
       "      <th>1</th>\n",
       "      <td>2017-09-01</td>\n",
       "      <td>Yeezy</td>\n",
       "      <td>Adidas-Yeezy-Boost-350-V2-Core-Black-Copper</td>\n",
       "      <td>685.0</td>\n",
       "      <td>220</td>\n",
       "      <td>2016-11-23</td>\n",
       "      <td>11.0</td>\n",
       "      <td>California</td>\n",
       "      <td>465.0</td>\n",
       "    </tr>\n",
       "    <tr>\n",
       "      <th>2</th>\n",
       "      <td>2017-09-01</td>\n",
       "      <td>Yeezy</td>\n",
       "      <td>Adidas-Yeezy-Boost-350-V2-Core-Black-Green</td>\n",
       "      <td>690.0</td>\n",
       "      <td>220</td>\n",
       "      <td>2016-11-23</td>\n",
       "      <td>11.0</td>\n",
       "      <td>California</td>\n",
       "      <td>470.0</td>\n",
       "    </tr>\n",
       "    <tr>\n",
       "      <th>3</th>\n",
       "      <td>2017-09-01</td>\n",
       "      <td>Yeezy</td>\n",
       "      <td>Adidas-Yeezy-Boost-350-V2-Core-Black-Red</td>\n",
       "      <td>1,075.0</td>\n",
       "      <td>220</td>\n",
       "      <td>2016-11-23</td>\n",
       "      <td>11.5</td>\n",
       "      <td>Kentucky</td>\n",
       "      <td>855.0</td>\n",
       "    </tr>\n",
       "    <tr>\n",
       "      <th>4</th>\n",
       "      <td>2017-09-01</td>\n",
       "      <td>Yeezy</td>\n",
       "      <td>Adidas-Yeezy-Boost-350-V2-Core-Black-Red-2017</td>\n",
       "      <td>828.0</td>\n",
       "      <td>220</td>\n",
       "      <td>2017-02-11</td>\n",
       "      <td>11.0</td>\n",
       "      <td>Rhode Island</td>\n",
       "      <td>608.0</td>\n",
       "    </tr>\n",
       "    <tr>\n",
       "      <th>...</th>\n",
       "      <td>...</td>\n",
       "      <td>...</td>\n",
       "      <td>...</td>\n",
       "      <td>...</td>\n",
       "      <td>...</td>\n",
       "      <td>...</td>\n",
       "      <td>...</td>\n",
       "      <td>...</td>\n",
       "      <td>...</td>\n",
       "    </tr>\n",
       "    <tr>\n",
       "      <th>99732</th>\n",
       "      <td>2019-02-13</td>\n",
       "      <td>Yeezy</td>\n",
       "      <td>Adidas-Yeezy-Boost-350-V2-Zebra</td>\n",
       "      <td>344.0</td>\n",
       "      <td>220</td>\n",
       "      <td>2017-02-25</td>\n",
       "      <td>10.0</td>\n",
       "      <td>Delaware</td>\n",
       "      <td>124.0</td>\n",
       "    </tr>\n",
       "    <tr>\n",
       "      <th>99733</th>\n",
       "      <td>2019-02-13</td>\n",
       "      <td>Yeezy</td>\n",
       "      <td>Adidas-Yeezy-Boost-350-V2-Zebra</td>\n",
       "      <td>341.0</td>\n",
       "      <td>220</td>\n",
       "      <td>2017-02-25</td>\n",
       "      <td>12.0</td>\n",
       "      <td>Oregon</td>\n",
       "      <td>121.0</td>\n",
       "    </tr>\n",
       "    <tr>\n",
       "      <th>99734</th>\n",
       "      <td>2019-02-13</td>\n",
       "      <td>Yeezy</td>\n",
       "      <td>Adidas-Yeezy-Boost-350-V2-Zebra</td>\n",
       "      <td>345.0</td>\n",
       "      <td>220</td>\n",
       "      <td>2017-02-25</td>\n",
       "      <td>9.0</td>\n",
       "      <td>California</td>\n",
       "      <td>125.0</td>\n",
       "    </tr>\n",
       "    <tr>\n",
       "      <th>99735</th>\n",
       "      <td>2019-02-13</td>\n",
       "      <td>Yeezy</td>\n",
       "      <td>Adidas-Yeezy-Boost-350-V2-Zebra</td>\n",
       "      <td>321.0</td>\n",
       "      <td>220</td>\n",
       "      <td>2017-02-25</td>\n",
       "      <td>8.0</td>\n",
       "      <td>California</td>\n",
       "      <td>101.0</td>\n",
       "    </tr>\n",
       "    <tr>\n",
       "      <th>99736</th>\n",
       "      <td>2019-02-13</td>\n",
       "      <td>Yeezy</td>\n",
       "      <td>Adidas-Yeezy-Boost-350-V2-Zebra</td>\n",
       "      <td>349.0</td>\n",
       "      <td>220</td>\n",
       "      <td>2017-02-25</td>\n",
       "      <td>10.0</td>\n",
       "      <td>Oregon</td>\n",
       "      <td>129.0</td>\n",
       "    </tr>\n",
       "  </tbody>\n",
       "</table>\n",
       "<p>52572 rows × 9 columns</p>\n",
       "</div>"
      ],
      "text/plain": [
       "      Order Date   Brand                                   Sneaker Name  \\\n",
       "0     2017-09-01   Yeezy           Adidas-Yeezy-Boost-350-Low-V2-Beluga   \n",
       "1     2017-09-01   Yeezy    Adidas-Yeezy-Boost-350-V2-Core-Black-Copper   \n",
       "2     2017-09-01   Yeezy     Adidas-Yeezy-Boost-350-V2-Core-Black-Green   \n",
       "3     2017-09-01   Yeezy       Adidas-Yeezy-Boost-350-V2-Core-Black-Red   \n",
       "4     2017-09-01   Yeezy  Adidas-Yeezy-Boost-350-V2-Core-Black-Red-2017   \n",
       "...          ...     ...                                            ...   \n",
       "99732 2019-02-13   Yeezy                Adidas-Yeezy-Boost-350-V2-Zebra   \n",
       "99733 2019-02-13   Yeezy                Adidas-Yeezy-Boost-350-V2-Zebra   \n",
       "99734 2019-02-13   Yeezy                Adidas-Yeezy-Boost-350-V2-Zebra   \n",
       "99735 2019-02-13   Yeezy                Adidas-Yeezy-Boost-350-V2-Zebra   \n",
       "99736 2019-02-13   Yeezy                Adidas-Yeezy-Boost-350-V2-Zebra   \n",
       "\n",
       "       Sale Price  Retail Price Release Date  Shoe Size  Buyer Region  profit  \n",
       "0         1,097.0           220   2016-09-24       11.0    California   877.0  \n",
       "1           685.0           220   2016-11-23       11.0    California   465.0  \n",
       "2           690.0           220   2016-11-23       11.0    California   470.0  \n",
       "3         1,075.0           220   2016-11-23       11.5      Kentucky   855.0  \n",
       "4           828.0           220   2017-02-11       11.0  Rhode Island   608.0  \n",
       "...           ...           ...          ...        ...           ...     ...  \n",
       "99732       344.0           220   2017-02-25       10.0      Delaware   124.0  \n",
       "99733       341.0           220   2017-02-25       12.0        Oregon   121.0  \n",
       "99734       345.0           220   2017-02-25        9.0    California   125.0  \n",
       "99735       321.0           220   2017-02-25        8.0    California   101.0  \n",
       "99736       349.0           220   2017-02-25       10.0        Oregon   129.0  \n",
       "\n",
       "[52572 rows x 9 columns]"
      ]
     },
     "execution_count": 43,
     "metadata": {},
     "output_type": "execute_result"
    }
   ],
   "source": [
    "df[df['Sneaker Name'].str.contains(\"Adidas\") | df['Sneaker Name'].str.contains(\"Adidas\")]"
   ]
  },
  {
   "cell_type": "code",
   "execution_count": 45,
   "id": "15944699",
   "metadata": {},
   "outputs": [
    {
     "data": {
      "text/plain": [
       "(52572, 9)"
      ]
     },
     "execution_count": 45,
     "metadata": {},
     "output_type": "execute_result"
    }
   ],
   "source": [
    "df[df['Sneaker Name'].str.contains(\"Adidas\") | df['Sneaker Name'].str.contains(\"Adidas\")].shape\n",
    "## 52,572 shoes were produced by Adidas in this data set"
   ]
  },
  {
   "cell_type": "markdown",
   "id": "6e50058c",
   "metadata": {},
   "source": [
    "## What are the top 3 months for buying shoes? (This is order date, not release date)\n",
    "\n",
    "People like to buy shoes for Christmas, or with money they received during Christmas. "
   ]
  },
  {
   "cell_type": "code",
   "execution_count": 50,
   "id": "203a4f1a",
   "metadata": {},
   "outputs": [
    {
     "data": {
      "text/plain": [
       "December     22292\n",
       "November     15489\n",
       "January      14511\n",
       "February      7774\n",
       "July          7434\n",
       "October       7307\n",
       "August        6090\n",
       "June          5431\n",
       "September     4671\n",
       "May           3456\n",
       "April         2756\n",
       "March         2745\n",
       "Name: Order Date, dtype: int64"
      ]
     },
     "execution_count": 50,
     "metadata": {},
     "output_type": "execute_result"
    }
   ],
   "source": [
    "df['Order Date'].dt.month_name().value_counts()\n",
    "## The top 3 months for purchaing shoes are December, November, and January"
   ]
  },
  {
   "cell_type": "markdown",
   "id": "145ab20a",
   "metadata": {},
   "source": [
    "## What month had the most total money spent on the shoes in this dataset?\n",
    "\n",
    "The most money was spent on shoes in December 2018."
   ]
  },
  {
   "cell_type": "code",
   "execution_count": null,
   "id": "089dba50",
   "metadata": {},
   "outputs": [],
   "source": [
    "#zooming out \n",
    "#focusing on data from just 2018"
   ]
  },
  {
   "cell_type": "code",
   "execution_count": 55,
   "id": "d6f9235b",
   "metadata": {},
   "outputs": [
    {
     "data": {
      "text/plain": [
       "Order Date\n",
       "2018-12-31   5,068,067.6894\n",
       "2019-01-31   4,029,846.2624\n",
       "2018-11-30   3,785,401.2927\n",
       "2017-12-31      3,211,053.0\n",
       "2018-08-31      3,162,458.0\n",
       "Name: Sale Price, dtype: float64"
      ]
     },
     "execution_count": 55,
     "metadata": {},
     "output_type": "execute_result"
    }
   ],
   "source": [
    "# The most money was spent on sneaker oin December 2018.\n",
    "df.resample('M', on='Order Date')['Sale Price'].sum().sort_values(ascending=False).head(5)#.plot()"
   ]
  }
 ],
 "metadata": {
  "kernelspec": {
   "display_name": "Python 3 (ipykernel)",
   "language": "python",
   "name": "python3"
  },
  "language_info": {
   "codemirror_mode": {
    "name": "ipython",
    "version": 3
   },
   "file_extension": ".py",
   "mimetype": "text/x-python",
   "name": "python",
   "nbconvert_exporter": "python",
   "pygments_lexer": "ipython3",
   "version": "3.9.13"
  }
 },
 "nbformat": 4,
 "nbformat_minor": 5
}
